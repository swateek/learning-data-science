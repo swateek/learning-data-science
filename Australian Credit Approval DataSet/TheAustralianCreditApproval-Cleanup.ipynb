{
 "cells": [
  {
   "cell_type": "markdown",
   "metadata": {},
   "source": [
    "## The Australian Credit Approval\n",
    "\n",
    "From the UCI Machine Learning Repository and can be found [here](https://archive.ics.uci.edu/ml/datasets/Statlog+%28Australian+Credit+Approval%29).\n",
    "\n",
    "**About the Dataset**\n",
    "\n",
    "There are 6 numerical and 8 categorical attributes. The labels have been changed for the convenience of the statistical algorithms. \n",
    "\n",
    "- A1: 0, 1 CATEGORICAL (formerly: a,b)\n",
    "- A2: continuous.\n",
    "- A3: continuous.\n",
    "- A4: 1, 2, 3 CATEGORICAL (formerly: p, g, gg)\n",
    "- A5: 1, 2, 3, 4, 5, 6, 7, 8, 9, 10, 11, 12, 13, 14 CATEGORICAL (formerly: ff, d, i, k, j, aa, m, c, w, e, q, r,cc, x)\n",
    "- A6: 1, 2, 3, 4, 5, 6, 7, 8, 9 CATEGORICAL (formerly: ff,dd,j,bb,v,n,o,h,z)\n",
    "- A7: continuous.\n",
    "- A8: 1, 0 CATEGORICAL (formerly: t, f)\n",
    "- A9: 1, 0 CATEGORICAL (formerly: t, f)\n",
    "- A10: continuous.\n",
    "- A11: 1, 0 CATEGORICAL (formerly t, f)\n",
    "- A12: 1, 2, 3 CATEGORICAL (formerly: s, g, p)\n",
    "- A13: continuous.\n",
    "- A14: continuous.\n",
    "- A15: 1, 2 class attribute (formerly: +,-)\n",
    "\n",
    "This file concerns credit card applications. All attribute names and values have been changed to meaningless symbols to protect confidentiality of the data. This dataset is interesting because there is a good mix of attributes -- continuous, nominal with small numbers of values, and nominal with larger numbers of values. There are also a few missing values.\n",
    "\n",
    "This missing values were replaced by the mean (for continuous value) and mode (for categorical value) at the source. We have to clean the data to be able to use it.\n",
    "\n",
    "**Certain columns like A4, A5, A6, A12 need further encoding since they have more categories than other categorical columns**\n",
    "\n",
    "#### **Imports**"
   ]
  },
  {
   "cell_type": "code",
   "execution_count": 3,
   "metadata": {},
   "outputs": [],
   "source": [
    "import pandas as pd"
   ]
  },
  {
   "cell_type": "markdown",
   "metadata": {},
   "source": [
    "**Read Raw Data & Write to .csv**\n",
    "\n",
    "Convention used:\n",
    "\n",
    "- **f_con** to denote a feature continuous variable, followed by a sequence number\n",
    "- **f_cat** to denote a feature categorical variable, followed by a sequence number\n",
    "- **f_ENC_cat** to denote a feature categorical variable which needs further encoding, followed by a sequence number\n",
    "- **target** is the denote of the features"
   ]
  },
  {
   "cell_type": "code",
   "execution_count": 30,
   "metadata": {},
   "outputs": [],
   "source": [
    "raw_df = pd.read_csv(\"raw_australian.dat\", sep=\" \", \n",
    "                     header=None, \n",
    "                     names=['f_cat_1', 'f_con_1', 'f_con_2', 'f_ENC_cat_2', 'f_ENC_cat_3', 'f_ENC_cat_4', 'f_con_3', 'f_cat_5', 'f_cat_6', 'f_con_4', 'f_cat_7', 'f_ENC_cat_8', 'f_con_5', 'f_con_6', 'target'])\n",
    "raw_df.to_csv(\"australian_credit_approval.csv\", index=False)\n",
    "\n",
    "# Columns needing further encoding in dataFrame have been marked with \"ENC\""
   ]
  }
 ],
 "metadata": {
  "kernelspec": {
   "display_name": "Python 3.7.3 64-bit",
   "language": "python",
   "name": "python37364bitcbc11a4c5a0d46eabcb2975be2985f30"
  },
  "language_info": {
   "codemirror_mode": {
    "name": "ipython",
    "version": 3
   },
   "file_extension": ".py",
   "mimetype": "text/x-python",
   "name": "python",
   "nbconvert_exporter": "python",
   "pygments_lexer": "ipython3",
   "version": "3.7.3"
  }
 },
 "nbformat": 4,
 "nbformat_minor": 4
}
