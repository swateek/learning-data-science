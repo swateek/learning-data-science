{
 "cells": [
  {
   "cell_type": "markdown",
   "metadata": {},
   "source": [
    "# **Imports**"
   ]
  },
  {
   "cell_type": "code",
   "execution_count": 118,
   "metadata": {},
   "outputs": [],
   "source": [
    "%matplotlib inline\n",
    "import matplotlib.pyplot as plt\n",
    "import numpy as np\n",
    "import pandas as pd\n",
    "from sklearn.impute import SimpleImputer\n",
    "from sklearn.compose import ColumnTransformer\n",
    "from sklearn.linear_model import LogisticRegression\n",
    "from sklearn.multioutput import MultiOutputClassifier\n",
    "from sklearn.pipeline import Pipeline\n",
    "from sklearn.model_selection import train_test_split\n",
    "from sklearn.metrics import roc_curve, roc_auc_score\n",
    "from sklearn.preprocessing import StandardScaler\n",
    "from sklearn.preprocessing import MaxAbsScaler\n",
    "from sklearn.preprocessing import OneHotEncoder\n",
    "from sklearn.preprocessing import OrdinalEncoder\n",
    "\n",
    "RANDOM_SEED = 6    # Set a random seed for reproducibility!\n",
    "\n",
    "df_features = pd.read_csv('data/training_set_features.csv', index_col=\"respondent_id\")\n",
    "df_labels = pd.read_csv('data/training_set_labels.csv', index_col=\"respondent_id\")"
   ]
  },
  {
   "cell_type": "markdown",
   "metadata": {},
   "source": [
    "# **Building Model**\n",
    "\n",
    "We'll use OneHotEncoder for the non-binary columns."
   ]
  },
  {
   "cell_type": "code",
   "execution_count": 119,
   "metadata": {},
   "outputs": [],
   "source": [
    "numeric_cols = df_features.columns[df_features.dtypes != \"object\"].values\n",
    "object_cols = df_features.columns[df_features.dtypes == \"object\"].values"
   ]
  },
  {
   "cell_type": "markdown",
   "metadata": {},
   "source": [
    "##### **PreProcessing**"
   ]
  },
  {
   "cell_type": "code",
   "execution_count": 104,
   "metadata": {},
   "outputs": [],
   "source": [
    "numeric_preprocessing_steps = Pipeline([\n",
    "    ('standard_scaler', StandardScaler()),\n",
    "    ('simple_imputer', SimpleImputer(strategy='median'))\n",
    "])\n",
    "\n",
    "categprocal_preprocessing_steps = Pipeline([\n",
    "    ('simple_imputer', SimpleImputer(strategy='constant', fill_value='NA')),\n",
    "    ('ordinal_encoder', OrdinalEncoder()),\n",
    "    ('standard_scaler', StandardScaler(with_mean=False))\n",
    "])"
   ]
  },
  {
   "cell_type": "code",
   "execution_count": 105,
   "metadata": {},
   "outputs": [],
   "source": [
    "preprocessor = ColumnTransformer(\n",
    "    transformers = [\n",
    "        (\"numeric\", numeric_preprocessing_steps, numeric_cols),\n",
    "        (\"encoder\", categprocal_preprocessing_steps, object_cols)\n",
    "    ],\n",
    "    remainder = \"drop\"\n",
    ")"
   ]
  },
  {
   "cell_type": "markdown",
   "metadata": {},
   "source": [
    "##### **Estimators & Pipeline**"
   ]
  },
  {
   "cell_type": "code",
   "execution_count": 106,
   "metadata": {},
   "outputs": [],
   "source": [
    "estimators = MultiOutputClassifier(estimator=LogisticRegression(penalty=\"l2\", C=1))\n",
    "\n",
    "full_pipeline = Pipeline([\n",
    "    (\"preprocessor\", preprocessor),\n",
    "    (\"estimators\", estimators),\n",
    "])"
   ]
  },
  {
   "cell_type": "code",
   "execution_count": 107,
   "metadata": {},
   "outputs": [],
   "source": [
    "X_train, X_eval, y_train, y_eval = train_test_split(\n",
    "    df_features,\n",
    "    df_labels,\n",
    "    test_size=0.33,\n",
    "    shuffle=True,\n",
    "    stratify=df_labels,\n",
    "    random_state=RANDOM_SEED\n",
    ")"
   ]
  },
  {
   "cell_type": "code",
   "execution_count": 108,
   "metadata": {},
   "outputs": [
    {
     "name": "stdout",
     "output_type": "stream",
     "text": [
      "[array([[0.64292216, 0.35707784],\n",
      "       [0.87900568, 0.12099432],\n",
      "       [0.78191587, 0.21808413],\n",
      "       ...,\n",
      "       [0.92954797, 0.07045203],\n",
      "       [0.9051025 , 0.0948975 ],\n",
      "       [0.93754855, 0.06245145]]), array([[0.55257991, 0.44742009],\n",
      "       [0.53674952, 0.46325048],\n",
      "       [0.24666428, 0.75333572],\n",
      "       ...,\n",
      "       [0.85907491, 0.14092509],\n",
      "       [0.87111047, 0.12888953],\n",
      "       [0.14271657, 0.85728343]])]\n",
      "CPU times: user 725 ms, sys: 89.3 ms, total: 814 ms\n",
      "Wall time: 296 ms\n"
     ]
    }
   ],
   "source": [
    "%%time\n",
    "\n",
    "# Train model\n",
    "full_pipeline.fit(X_train, y_train)\n",
    "\n",
    "# Predict on evaluation set\n",
    "# This competition wants probabilities, not labels\n",
    "preds = full_pipeline.predict_proba(X_eval)\n",
    "\n",
    "print(preds)"
   ]
  },
  {
   "cell_type": "code",
   "execution_count": 109,
   "metadata": {},
   "outputs": [
    {
     "name": "stdout",
     "output_type": "stream",
     "text": [
      "test_probas[0].shape (8814, 2)\n",
      "test_probas[1].shape (8814, 2)\n"
     ]
    }
   ],
   "source": [
    "print(\"test_probas[0].shape\", preds[0].shape)\n",
    "print(\"test_probas[1].shape\", preds[1].shape)"
   ]
  },
  {
   "cell_type": "markdown",
   "metadata": {},
   "source": [
    "This has given us back a list of two (n_obs, 2) arrays. \n",
    "\n",
    "The first array is for `h1n1_vaccine`, and the second array is for `seasonal_vaccine`. \n",
    "\n",
    "The two columns for each array are probabilities for class 0 and class 1 respectively. That means we want the second column (index 1) for each of the two arrays. Let's grab those and put them in a data frame."
   ]
  },
  {
   "cell_type": "code",
   "execution_count": 110,
   "metadata": {},
   "outputs": [
    {
     "name": "stdout",
     "output_type": "stream",
     "text": [
      "y_preds.shape: (8814, 2)\n"
     ]
    },
    {
     "data": {
      "text/html": [
       "<div>\n",
       "<style scoped>\n",
       "    .dataframe tbody tr th:only-of-type {\n",
       "        vertical-align: middle;\n",
       "    }\n",
       "\n",
       "    .dataframe tbody tr th {\n",
       "        vertical-align: top;\n",
       "    }\n",
       "\n",
       "    .dataframe thead th {\n",
       "        text-align: right;\n",
       "    }\n",
       "</style>\n",
       "<table border=\"1\" class=\"dataframe\">\n",
       "  <thead>\n",
       "    <tr style=\"text-align: right;\">\n",
       "      <th></th>\n",
       "      <th>h1n1_vaccine</th>\n",
       "      <th>seasonal_vaccine</th>\n",
       "    </tr>\n",
       "    <tr>\n",
       "      <th>respondent_id</th>\n",
       "      <th></th>\n",
       "      <th></th>\n",
       "    </tr>\n",
       "  </thead>\n",
       "  <tbody>\n",
       "    <tr>\n",
       "      <th>6728</th>\n",
       "      <td>0.357078</td>\n",
       "      <td>0.447420</td>\n",
       "    </tr>\n",
       "    <tr>\n",
       "      <th>16516</th>\n",
       "      <td>0.120994</td>\n",
       "      <td>0.463250</td>\n",
       "    </tr>\n",
       "    <tr>\n",
       "      <th>3106</th>\n",
       "      <td>0.218084</td>\n",
       "      <td>0.753336</td>\n",
       "    </tr>\n",
       "    <tr>\n",
       "      <th>16981</th>\n",
       "      <td>0.750555</td>\n",
       "      <td>0.909382</td>\n",
       "    </tr>\n",
       "    <tr>\n",
       "      <th>19111</th>\n",
       "      <td>0.245490</td>\n",
       "      <td>0.701567</td>\n",
       "    </tr>\n",
       "  </tbody>\n",
       "</table>\n",
       "</div>"
      ],
      "text/plain": [
       "               h1n1_vaccine  seasonal_vaccine\n",
       "respondent_id                                \n",
       "6728               0.357078          0.447420\n",
       "16516              0.120994          0.463250\n",
       "3106               0.218084          0.753336\n",
       "16981              0.750555          0.909382\n",
       "19111              0.245490          0.701567"
      ]
     },
     "execution_count": 110,
     "metadata": {},
     "output_type": "execute_result"
    }
   ],
   "source": [
    "y_preds = pd.DataFrame(\n",
    "    {\n",
    "        \"h1n1_vaccine\": preds[0][:, 1],\n",
    "        \"seasonal_vaccine\": preds[1][:, 1],\n",
    "    },\n",
    "    index = y_eval.index\n",
    ")\n",
    "print(\"y_preds.shape:\", y_preds.shape)\n",
    "y_preds.head()"
   ]
  },
  {
   "cell_type": "markdown",
   "metadata": {},
   "source": [
    "This competition uses [ROC AUC](https://towardsdatascience.com/understanding-auc-roc-curve-68b2303cc9c5) as the metric. Let's plot ROC curves and take a look. Unfortunately, scikit-learn's convenient [`plot_roc_curve`](https://scikit-learn.org/stable/modules/generated/sklearn.metrics.plot_roc_curve.html) doesn't support multilabel, so we'll need to make the plot ourselves."
   ]
  },
  {
   "cell_type": "code",
   "execution_count": 111,
   "metadata": {},
   "outputs": [],
   "source": [
    "def plot_roc(y_true, y_score, label_name, ax):\n",
    "    fpr, tpr, thresholds = roc_curve(y_true, y_score)\n",
    "    ax.plot(fpr, tpr)\n",
    "    ax.plot([0, 1], [0, 1], color='grey', linestyle='--')\n",
    "    ax.set_ylabel('TPR')\n",
    "    ax.set_xlabel('FPR')\n",
    "    ax.set_title(\n",
    "        f\"{label_name}: AUC = {roc_auc_score(y_true, y_score):.4f}\"\n",
    "    )"
   ]
  },
  {
   "cell_type": "code",
   "execution_count": 112,
   "metadata": {},
   "outputs": [
    {
     "data": {
      "image/png": "[encoded data removed]",
      "text/plain": [
       "<Figure size 504x252 with 2 Axes>"
      ]
     },
     "metadata": {
      "needs_background": "light"
     },
     "output_type": "display_data"
    }
   ],
   "source": [
    "fig, ax = plt.subplots(1, 2, figsize=(7, 3.5))\n",
    "\n",
    "plot_roc(\n",
    "    y_eval['h1n1_vaccine'], \n",
    "    y_preds['h1n1_vaccine'], \n",
    "    'h1n1_vaccine',\n",
    "    ax=ax[0]\n",
    ")\n",
    "plot_roc(\n",
    "    y_eval['seasonal_vaccine'], \n",
    "    y_preds['seasonal_vaccine'], \n",
    "    'seasonal_vaccine',\n",
    "    ax=ax[1]\n",
    ")\n",
    "fig.tight_layout()"
   ]
  },
  {
   "cell_type": "markdown",
   "metadata": {},
   "source": [
    "**A cool improvement from the benchmark solution!**"
   ]
  },
  {
   "cell_type": "code",
   "execution_count": 113,
   "metadata": {},
   "outputs": [
    {
     "data": {
      "text/plain": [
       "0.8401647135544396"
      ]
     },
     "execution_count": 113,
     "metadata": {},
     "output_type": "execute_result"
    }
   ],
   "source": [
    "roc_auc_score(y_eval, y_preds)"
   ]
  },
  {
   "cell_type": "markdown",
   "metadata": {},
   "source": [
    "# **Retrain Model on Full Dataset**\n",
    "\n",
    "Now that we have an idea of our performance, we'll want to retrain our model on the full dataset before generating our predictions on the test set."
   ]
  },
  {
   "cell_type": "code",
   "execution_count": 114,
   "metadata": {},
   "outputs": [
    {
     "name": "stdout",
     "output_type": "stream",
     "text": [
      "CPU times: user 775 ms, sys: 82.9 ms, total: 858 ms\n",
      "Wall time: 349 ms\n"
     ]
    }
   ],
   "source": [
    "%%time \n",
    "\n",
    "full_pipeline.fit(df_features, df_labels)\n",
    "\n",
    "None   # So we don't print out the whole pipeline representation"
   ]
  },
  {
   "cell_type": "markdown",
   "metadata": {},
   "source": [
    "# **Generating The Predictions For The Test Set**\n",
    "\n",
    "Let's make predictions on the test set! Again, for this competition, we want the probabilities, not the binary label predictions. We'll again use the `.predict_proba` method to get those."
   ]
  },
  {
   "cell_type": "code",
   "execution_count": 115,
   "metadata": {},
   "outputs": [
    {
     "data": {
      "text/plain": [
       "[array([[0.91695575, 0.08304425],\n",
       "        [0.95834838, 0.04165162],\n",
       "        [0.56624421, 0.43375579],\n",
       "        ...,\n",
       "        [0.85592959, 0.14407041],\n",
       "        [0.94691892, 0.05308108],\n",
       "        [0.45103536, 0.54896464]]), array([[0.72898537, 0.27101463],\n",
       "        [0.95719799, 0.04280201],\n",
       "        [0.32252371, 0.67747629],\n",
       "        ...,\n",
       "        [0.76647665, 0.23352335],\n",
       "        [0.56637592, 0.43362408],\n",
       "        [0.42297874, 0.57702126]])]"
      ]
     },
     "execution_count": 115,
     "metadata": {},
     "output_type": "execute_result"
    }
   ],
   "source": [
    "test_features_df = pd.read_csv(\"data/test_set_features.csv\", index_col=\"respondent_id\")\n",
    "test_probas = full_pipeline.predict_proba(test_features_df)\n",
    "test_probas"
   ]
  },
  {
   "cell_type": "markdown",
   "metadata": {},
   "source": [
    "As before, this gives us back two arrays: one for `h1n1_vaccine`, and one for `seasonal_vaccine`. The two columns for each array are probabilities for class 0 and class 1 respectively. That means we want the second column (index 1) for each of the two arrays.\n",
    "\n",
    "Let's read in the submission format file so we can put our predictions into it."
   ]
  },
  {
   "cell_type": "markdown",
   "metadata": {},
   "source": [
    "We want to replace those 0.5s and 0.7s with our predictions.\n",
    "\n",
    "First, make sure we have the rows in the same order by comparing the indices. Then, we can drop in the appropriate columns from our predicted probabilities."
   ]
  },
  {
   "cell_type": "code",
   "execution_count": 116,
   "metadata": {},
   "outputs": [
    {
     "data": {
      "text/html": [
       "<div>\n",
       "<style scoped>\n",
       "    .dataframe tbody tr th:only-of-type {\n",
       "        vertical-align: middle;\n",
       "    }\n",
       "\n",
       "    .dataframe tbody tr th {\n",
       "        vertical-align: top;\n",
       "    }\n",
       "\n",
       "    .dataframe thead th {\n",
       "        text-align: right;\n",
       "    }\n",
       "</style>\n",
       "<table border=\"1\" class=\"dataframe\">\n",
       "  <thead>\n",
       "    <tr style=\"text-align: right;\">\n",
       "      <th></th>\n",
       "      <th>h1n1_vaccine</th>\n",
       "      <th>seasonal_vaccine</th>\n",
       "    </tr>\n",
       "    <tr>\n",
       "      <th>respondent_id</th>\n",
       "      <th></th>\n",
       "      <th></th>\n",
       "    </tr>\n",
       "  </thead>\n",
       "  <tbody>\n",
       "    <tr>\n",
       "      <th>26707</th>\n",
       "      <td>0.083044</td>\n",
       "      <td>0.271015</td>\n",
       "    </tr>\n",
       "    <tr>\n",
       "      <th>26708</th>\n",
       "      <td>0.041652</td>\n",
       "      <td>0.042802</td>\n",
       "    </tr>\n",
       "    <tr>\n",
       "      <th>26709</th>\n",
       "      <td>0.433756</td>\n",
       "      <td>0.677476</td>\n",
       "    </tr>\n",
       "    <tr>\n",
       "      <th>26710</th>\n",
       "      <td>0.480915</td>\n",
       "      <td>0.883912</td>\n",
       "    </tr>\n",
       "    <tr>\n",
       "      <th>26711</th>\n",
       "      <td>0.212805</td>\n",
       "      <td>0.487306</td>\n",
       "    </tr>\n",
       "  </tbody>\n",
       "</table>\n",
       "</div>"
      ],
      "text/plain": [
       "               h1n1_vaccine  seasonal_vaccine\n",
       "respondent_id                                \n",
       "26707              0.083044          0.271015\n",
       "26708              0.041652          0.042802\n",
       "26709              0.433756          0.677476\n",
       "26710              0.480915          0.883912\n",
       "26711              0.212805          0.487306"
      ]
     },
     "execution_count": 116,
     "metadata": {},
     "output_type": "execute_result"
    }
   ],
   "source": [
    "submission_df = pd.read_csv(\"data/submission_format.csv\", index_col=\"respondent_id\")\n",
    "submission_df.head()\n",
    "\n",
    "# Make sure we have the rows in the same order\n",
    "np.testing.assert_array_equal(test_features_df.index.values, submission_df.index.values)\n",
    "\n",
    "# Save predictions to submission data frame\n",
    "submission_df[\"h1n1_vaccine\"] = test_probas[0][:, 1]\n",
    "submission_df[\"seasonal_vaccine\"] = test_probas[1][:, 1]\n",
    "\n",
    "submission_df.head()"
   ]
  },
  {
   "cell_type": "code",
   "execution_count": 117,
   "metadata": {},
   "outputs": [
    {
     "name": "stdout",
     "output_type": "stream",
     "text": [
      "respondent_id,h1n1_vaccine,seasonal_vaccine\n",
      "26707,0.0830442524681975,0.27101462718739794\n",
      "26708,0.04165162381857463,0.04280200965912304\n",
      "26709,0.43375578713126883,0.6774762948916545\n",
      "26710,0.48091481231816663,0.8839123113746116\n",
      "26711,0.21280514614521795,0.48730637910017116\n",
      "26712,0.43666667431218026,0.922423204645907\n",
      "26713,0.3779868547572389,0.5151121781247984\n",
      "26714,0.13618552002406908,0.2713071438910558\n",
      "26715,0.04289038416738773,0.18772112292879767\n"
     ]
    }
   ],
   "source": [
    "submission_df.to_csv('data/solution-2.csv', index=True)\n",
    "\n",
    "!head data/solution-2.csv"
   ]
  }
 ],
 "metadata": {
  "kernelspec": {
   "display_name": "Python 3.7.3 64-bit",
   "language": "python",
   "name": "python37364bitcbc11a4c5a0d46eabcb2975be2985f30"
  },
  "language_info": {
   "codemirror_mode": {
    "name": "ipython",
    "version": 3
   },
   "file_extension": ".py",
   "mimetype": "text/x-python",
   "name": "python",
   "nbconvert_exporter": "python",
   "pygments_lexer": "ipython3",
   "version": "3.7.3"
  }
 },
 "nbformat": 4,
 "nbformat_minor": 4
}
